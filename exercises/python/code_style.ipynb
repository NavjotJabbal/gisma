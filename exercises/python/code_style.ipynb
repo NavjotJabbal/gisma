{
  "cells": [
    {
      "cell_type": "markdown",
      "id": "isolated-catholic",
      "metadata": {
        "id": "isolated-catholic"
      },
      "source": [
        "# Code Style\n",
        "You should clean up the code according to PEP 8 guidelines. In particular, you should make sure that\n",
        "- class names are in CamelCase.\n",
        "- variable and function names are in lowercase, with words separated by underscores.\n",
        "- there are proper spaces around operators and function arguments.\n",
        "- the code is appropriately indented.\n",
        "- docstrings are included for the class and methods to provide clear documentation."
      ]
    },
    {
      "cell_type": "markdown",
      "id": "be7d31a9",
      "metadata": {
        "id": "be7d31a9"
      },
      "source": [
        "## Circle Class"
      ]
    },
    {
      "cell_type": "code",
      "execution_count": null,
      "id": "e6eee1fd",
      "metadata": {
        "id": "e6eee1fd"
      },
      "outputs": [],
      "source": [
        "Pi = 3.14\n",
        "class CIRCLE:\n",
        "    def __init__(Self, RADIUS):\n",
        "        Self.Radius = RADIUS\n",
        "    @property\n",
        "    def AREA(Self):\n",
        "        return (Self.Radius **2) * Pi\n",
        "    @property\n",
        "    def PERIMETER(Self):\n",
        "        return 2 * Self.Radius * Pi\n",
        "SmallCIRCLE = CIRCLE(1)\n",
        "BigCIRCLE = CIRCLE(5)\n",
        "print(f\"Area of small circle = {SmallCIRCLE.AREA}\")\n",
        "print(f\"Perimeter of small circle = {SmallCIRCLE.PERIMETER}\")\n",
        "print(f\"Area of big circle = {BigCIRCLE.AREA}\")\n",
        "print(f\"Perimeter of big circle = {BigCIRCLE.PERIMETER}\")"
      ]
    },
    {
      "cell_type": "code",
      "execution_count": 5,
      "id": "2f170a2a",
      "metadata": {
        "id": "2f170a2a",
        "outputId": "671334c1-d222-4989-e422-866f2af7d296",
        "colab": {
          "base_uri": "https://localhost:8080/"
        }
      },
      "outputs": [
        {
          "output_type": "stream",
          "name": "stdout",
          "text": [
            "Area of small circle = 3.14\n",
            "Perimeter of small circle = 6.28\n",
            "Area of big circle = 78.5\n",
            "Perimeter of big circle = 31.400000000000002\n"
          ]
        }
      ],
      "source": [
        "PI = 3.14\n",
        "\n",
        "class Circle:\n",
        "    def __init__(Self, radius):\n",
        "        Self.radius = radius\n",
        "\n",
        "    @property\n",
        "    def area(Self):\n",
        "        return (Self.radius **2) * PI\n",
        "\n",
        "    @property\n",
        "    def perimeter(Self):\n",
        "        return 2 * Self.radius * PI\n",
        "\n",
        "small_circle = Circle(1)\n",
        "big_circle = Circle(5)\n",
        "\n",
        "print(f\"Area of small circle = {small_circle.area}\")\n",
        "print(f\"Perimeter of small circle = {small_circle.perimeter}\")\n",
        "print(f\"Area of big circle = {big_circle.area}\")\n",
        "print(f\"Perimeter of big circle = {big_circle.perimeter}\")"
      ]
    },
    {
      "cell_type": "markdown",
      "id": "fbed88d4",
      "metadata": {
        "id": "fbed88d4"
      },
      "source": [
        "## Animal Class"
      ]
    },
    {
      "cell_type": "code",
      "execution_count": null,
      "id": "going-custom",
      "metadata": {
        "id": "going-custom"
      },
      "outputs": [],
      "source": [
        "class animal:\n",
        "    def __init__(self, name, type, age):\n",
        "        self.name = name\n",
        "        self.type = type\n",
        "        self.age = age\n",
        "    def get_name(self):\n",
        "        return self.name\n",
        "    def get_type(self):\n",
        "        return self.type\n",
        "    def get_age(self):\n",
        "        return self.age\n",
        "    def speak(self):\n",
        "        if self.type.lower() == \"cat\":\n",
        "            print(\"Meow!\")\n",
        "        elif self.type.lower() == \"dog\":\n",
        "            print(\"Woof!\")\n",
        "        else:\n",
        "            print(\"Unknown animal type.\")\n",
        "def main():\n",
        "    myanimal = animal(\"Tom\", \"cat\", 3)\n",
        "    print(\"Name:\", myanimal.get_name())\n",
        "    print(\"Type:\", myanimal.get_type())\n",
        "    print(\"Age:\", myanimal.get_age())\n",
        "    myanimal.speak()\n",
        "if __name__ == \"__main__\":\n",
        "    main()"
      ]
    },
    {
      "cell_type": "code",
      "execution_count": 3,
      "id": "18ebb552",
      "metadata": {
        "id": "18ebb552",
        "outputId": "464833bc-cdb1-4541-af47-30f5e0793148",
        "colab": {
          "base_uri": "https://localhost:8080/"
        }
      },
      "outputs": [
        {
          "output_type": "stream",
          "name": "stdout",
          "text": [
            "Name: Tom\n",
            "Type: cat\n",
            "Age: 3\n",
            "Meow!\n"
          ]
        }
      ],
      "source": [
        "class Animal:\n",
        "    def __init__(self, name, type, age):\n",
        "        self.name = name\n",
        "        self.type = type\n",
        "        self.age = age\n",
        "\n",
        "    def get_name(self):\n",
        "        return self.name\n",
        "\n",
        "    def get_type(self):\n",
        "        return self.type\n",
        "\n",
        "    def get_age(self):\n",
        "        return self.age\n",
        "\n",
        "    def speak(self):\n",
        "        if self.type.lower() == \"cat\":\n",
        "            print(\"Meow!\")\n",
        "        elif self.type.lower() == \"dog\":\n",
        "            print(\"Woof!\")\n",
        "        else:\n",
        "            print(\"Unknown animal type.\")\n",
        "\n",
        "def main():\n",
        "    my_animal = Animal(\"Tom\", \"cat\", 3)\n",
        "    print(\"Name:\", my_animal.get_name())\n",
        "    print(\"Type:\", my_animal.get_type())\n",
        "    print(\"Age:\", my_animal.get_age())\n",
        "\n",
        "    my_animal.speak()\n",
        "\n",
        "if __name__ == \"__main__\":\n",
        "    main()"
      ]
    }
  ],
  "metadata": {
    "kernelspec": {
      "display_name": "Python 3",
      "language": "python",
      "name": "python3"
    },
    "language_info": {
      "codemirror_mode": {
        "name": "ipython",
        "version": 3
      },
      "file_extension": ".py",
      "mimetype": "text/x-python",
      "name": "python",
      "nbconvert_exporter": "python",
      "pygments_lexer": "ipython3",
      "version": "3.11.2"
    },
    "colab": {
      "provenance": []
    }
  },
  "nbformat": 4,
  "nbformat_minor": 5
}