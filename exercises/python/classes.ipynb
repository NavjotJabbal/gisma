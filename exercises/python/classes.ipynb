{
  "cells": [
    {
      "cell_type": "markdown",
      "id": "isolated-catholic",
      "metadata": {
        "id": "isolated-catholic"
      },
      "source": [
        "# Classes"
      ]
    },
    {
      "cell_type": "markdown",
      "id": "valuable-coupon",
      "metadata": {
        "id": "valuable-coupon"
      },
      "source": [
        "## Course Class\n",
        "Define a course class with the followings:\n",
        "- A `code` attribute.\n",
        "- A `name` attribute.\n",
        "- A `credits` attribute.\n",
        "- A `semester` attribute.\n",
        "- An `instructor` attribute.\n",
        "- An `__init__` method.\n",
        "- A `__str__` method."
      ]
    },
    {
      "cell_type": "code",
      "execution_count": 50,
      "id": "e6eee1fd",
      "metadata": {
        "id": "e6eee1fd",
        "outputId": "062ffef2-03ef-4633-f105-28e005405635",
        "colab": {
          "base_uri": "https://localhost:8080/"
        }
      },
      "outputs": [
        {
          "output_type": "stream",
          "name": "stdout",
          "text": [
            "Course Code: M504B\n",
            "Course Name: AI and Applications\n",
            "Credits: 100\n",
            "Semester: January\n",
            "Instructor: William Morrison\n",
            "________________________________________________\n",
            "Course Code: M506B\n",
            "Course Name: Research Methods and Scientific Work\n",
            "Credits: 100\n",
            "Semester: January\n",
            "Instructor: William Morrison\n",
            "________________________________________________\n",
            "Course Code: M505B\n",
            "Course Name: Intro to AI and Machine Learning\n",
            "Credits: 100\n",
            "Semester: January\n",
            "Instructor: Mohammad Mahdavi\n"
          ]
        }
      ],
      "source": [
        "class Course:\n",
        "    def __init__(self, code, name, credits, semester, instructor):\n",
        "        self.code = code\n",
        "        self.name = name\n",
        "        self.credits = credits\n",
        "        self.semester = semester\n",
        "        self.instructor = instructor\n",
        "\n",
        "    def __str__(self):\n",
        "        return f\"Course Code: {self.code}\\nCourse Name: {self.name}\\nCredits: {self.credits}\\nSemester: {self.semester}\\nInstructor: {self.instructor}\"\n",
        "\n",
        "course_1 = Course(\"M504B\", \"AI and Applications\", 100, \"January\", \"William Morrison\")\n",
        "course_2 = Course(\"M506B\", \"Research Methods and Scientific Work\", 100, \"January\", \"William Morrison\")\n",
        "course_3 = Course(\"M505B\", \"Intro to AI and Machine Learning\", 100, \"January\", \"Mohammad Mahdavi\")\n",
        "\n",
        "print(course_1)\n",
        "print(\"________________________________________________\")\n",
        "print(course_2)\n",
        "print(\"________________________________________________\")\n",
        "print(course_3)"
      ]
    },
    {
      "cell_type": "markdown",
      "metadata": {
        "id": "YhGahKFvYwAz"
      },
      "source": [
        "## Student Class\n",
        "Define a student class with the followings:\n",
        "- A `first_name` attribute.\n",
        "- A `last_name` attribute.\n",
        "- An `number` attribute.\n",
        "- A `courses` attribute that stores a dictionary of passed **course objects** and their mark.\n",
        "- An `__init__` method.\n",
        "- A `__str__` method.\n",
        "- A `get_gpa` method.\n",
        "- A `set_course_mark` method."
      ],
      "id": "YhGahKFvYwAz"
    },
    {
      "cell_type": "code",
      "execution_count": 51,
      "id": "according-purse",
      "metadata": {
        "id": "according-purse",
        "outputId": "eac2939a-e7e4-4216-9f11-b1d9505b689d",
        "colab": {
          "base_uri": "https://localhost:8080/"
        }
      },
      "outputs": [
        {
          "output_type": "stream",
          "name": "stdout",
          "text": [
            "First Name: Navjot Singh\n",
            "Last Name: Jabbal\n",
            "Student Number: GH1034919\n",
            "Courses: {'AI and Applications': 100, 'Research Methods and Scientific Work': 100, 'Intro to AI and Machine Learning': 100}\n",
            "GPA is 4.0\n",
            "___________________________________________________________________________________________________________________________\n",
            "First Name: Susan\n",
            "Last Name: Abido\n",
            "Student Number: GH1030704\n",
            "Courses: {'AI and Applications': 96, 'Intro to AI and Machine Learning': 100}\n",
            "GPA is 2.6666666666666665\n",
            "___________________________________________________________________________________________________________________________\n",
            "First Name: Susan\n",
            "Last Name: Abido\n",
            "Student Number: GH1030704\n",
            "Courses: {'AI and Applications': 96, 'Research Methods and Scientific Work': 80, 'Intro to AI and Machine Learning': 100}\n",
            "GPA is 3.6666666666666665\n"
          ]
        }
      ],
      "source": [
        "class Student:\n",
        "    def __init__(self, first_name, last_name, number, courses):\n",
        "        self.first_name = first_name\n",
        "        self.last_name = last_name\n",
        "        self.number = number\n",
        "        self.courses = courses\n",
        "\n",
        "    def __str__(self):\n",
        "        filtered_courses = {course: mark for course, mark in self.courses.items() if mark >= 50}\n",
        "        return f\"First Name: {self.first_name}\\nLast Name: {self.last_name}\\nStudent Number: {self.number}\\nCourses: {filtered_courses}\"\n",
        "\n",
        "    def get_gpa(self):\n",
        "      gpa = 0\n",
        "      for course in self.courses:\n",
        "        if self.courses[course] >= 90:\n",
        "          gpa += 4\n",
        "        elif self.courses[course] >= 80:\n",
        "          gpa += 3\n",
        "        elif self.courses[course] >= 70:\n",
        "          gpa += 2\n",
        "      return gpa / len(self.courses)\n",
        "\n",
        "    def set_course_mark(self, course, mark, courses_dictionary):\n",
        "      courses_dictionary[course] = mark\n",
        "      self.courses = courses_dictionary\n",
        "      return\n",
        "\n",
        "student_1_details = Student(\"Navjot Singh\", \"Jabbal\", \"GH1034919\", {course_1.name: 100, course_2.name: 100, course_3.name:100 })\n",
        "print(student_1_details)\n",
        "gpa_1 = student_1_details.get_gpa()\n",
        "print(f\"GPA is {gpa_1}\")\n",
        "\n",
        "print(\"___________________________________________________________________________________________________________________________\")\n",
        "\n",
        "student_2_details = Student(\"Susan\", \"Abido\", \"GH1030704\", {course_1.name: 96, course_2.name: 4, course_3.name:100 })\n",
        "print(student_2_details)\n",
        "gpa_2 = student_2_details.get_gpa()\n",
        "print(f\"GPA is {gpa_2}\")\n",
        "\n",
        "student_2_details.set_course_mark(course_2.name, 80, student_2_details.courses)\n",
        "print(\"___________________________________________________________________________________________________________________________\")\n",
        "print(student_2_details)\n",
        "gpa_2 = student_2_details.get_gpa()\n",
        "print(f\"GPA is {gpa_2}\")"
      ]
    },
    {
      "cell_type": "markdown",
      "id": "palestinian-expert",
      "metadata": {
        "id": "palestinian-expert"
      },
      "source": [
        "## University Class\n",
        "Define a university class with the followings:\n",
        "- A `name` attribute.\n",
        "- A `students` attribute that stores a list of **student objects**.\n",
        "- An `__init__` method.\n",
        "- A `__str__` method.\n",
        "- A `register_student` method.\n",
        "- A `graduate_student` method."
      ]
    },
    {
      "cell_type": "code",
      "execution_count": 52,
      "id": "going-custom",
      "metadata": {
        "id": "going-custom",
        "outputId": "fa370cf8-5cd1-4150-c89a-a419a993290e",
        "colab": {
          "base_uri": "https://localhost:8080/"
        }
      },
      "outputs": [
        {
          "output_type": "stream",
          "name": "stdout",
          "text": [
            "University Name: Gisma\n",
            "Students: ['Navjot Singh', 'Susan']\n",
            "_____________________________________________\n",
            "University Name: Gisma\n",
            "Students: ['Navjot Singh', 'Susan', 'Harmanpreet']\n",
            "_____________________________________________\n",
            "University Name: Gisma\n",
            "Students: ['Susan', 'Harmanpreet']\n",
            "_____________________________________________\n",
            "University Name: Gisma 2\n",
            "Students: ['Navjot Singh']\n"
          ]
        }
      ],
      "source": [
        "class University:\n",
        "  def __init__(self, name, students):\n",
        "    self.name = name\n",
        "    self.students = students\n",
        "\n",
        "  def __str__(self):\n",
        "    return f\"University Name: {self.name}\\nStudents: {self.students}\"\n",
        "\n",
        "  def register_student(self, student):\n",
        "    self.students.append(student)\n",
        "    return\n",
        "\n",
        "  def graduate_student(self, student):\n",
        "    self.students.remove(student)\n",
        "    return\n",
        "\n",
        "University_1 = University(\"Gisma\", [student_1_details.first_name, student_2_details.first_name])\n",
        "University_2 = University(\"Gisma 2\",[])\n",
        "print(University_1)\n",
        "print(\"_____________________________________________\")\n",
        "add_student = University_1.register_student(\"Harmanpreet\")\n",
        "print(University_1)\n",
        "print(\"_____________________________________________\")\n",
        "remove_student = University_1.graduate_student(\"Navjot Singh\")\n",
        "print(University_1)\n",
        "\n",
        "print(\"_____________________________________________\")\n",
        "add_student = University_2.register_student(\"Navjot Singh\")\n",
        "print(University_2)"
      ]
    }
  ],
  "metadata": {
    "kernelspec": {
      "display_name": "Python 3",
      "language": "python",
      "name": "python3"
    },
    "language_info": {
      "codemirror_mode": {
        "name": "ipython",
        "version": 3
      },
      "file_extension": ".py",
      "mimetype": "text/x-python",
      "name": "python",
      "nbconvert_exporter": "python",
      "pygments_lexer": "ipython3",
      "version": "3.8.5"
    },
    "colab": {
      "provenance": []
    }
  },
  "nbformat": 4,
  "nbformat_minor": 5
}