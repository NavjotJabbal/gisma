{
  "cells": [
    {
      "cell_type": "markdown",
      "id": "bibliographic-edward",
      "metadata": {
        "id": "bibliographic-edward"
      },
      "source": [
        "# Modules and Packages"
      ]
    },
    {
      "cell_type": "markdown",
      "id": "actual-chinese",
      "metadata": {
        "id": "actual-chinese"
      },
      "source": [
        "## os\n",
        "Write a Python program to print the list of files in the current folder and their absolute path."
      ]
    },
    {
      "cell_type": "code",
      "execution_count": 104,
      "id": "tender-colombia",
      "metadata": {
        "colab": {
          "base_uri": "https://localhost:8080/"
        },
        "id": "tender-colombia",
        "outputId": "b7265bb8-fbea-49bd-a5a6-5a5febfc479f"
      },
      "outputs": [
        {
          "output_type": "stream",
          "name": "stdout",
          "text": [
            "\u001b[31m.config: \u001b[34m/content/.config\n",
            "\u001b[31mdata.json: \u001b[34m/content/data.json\n",
            "\u001b[31mdata.pickle: \u001b[34m/content/data.pickle\n",
            "\u001b[31mnew_folder: \u001b[34m/content/new_folder\n",
            "\u001b[31mdata.pickle2: \u001b[34m/content/data.pickle2\n",
            "\u001b[31msample_data: \u001b[34m/content/sample_data\n"
          ]
        }
      ],
      "source": [
        "import os\n",
        "\n",
        "os.system('color')\n",
        "\n",
        "RED = '\\033[31m'\n",
        "BLUE = '\\033[34m'\n",
        "MAGENTA = '\\033[35m'\n",
        "\n",
        "def print_list_of_files_with_absolute_path():\n",
        "  for filename in os.listdir():\n",
        "    absolute_path = os.path.abspath(filename)\n",
        "    print(f\"{RED}{filename}: {BLUE}{absolute_path}\")\n",
        "\n",
        "print_list_of_files_with_absolute_path()"
      ]
    },
    {
      "cell_type": "markdown",
      "id": "burning-montreal",
      "metadata": {
        "id": "burning-montreal"
      },
      "source": [
        "## math\n",
        "Write a Python program that finds the maximum of log$_2 10000$ and $ e^e $."
      ]
    },
    {
      "cell_type": "code",
      "execution_count": 107,
      "id": "saved-craft",
      "metadata": {
        "colab": {
          "base_uri": "https://localhost:8080/"
        },
        "id": "saved-craft",
        "outputId": "cf5cb157-3820-41af-a57a-1dea25b5fb87"
      },
      "outputs": [
        {
          "output_type": "stream",
          "name": "stdout",
          "text": [
            "Please enter a number: 10000\n",
            "\u001b[31mlog of 10000 is \u001b[34m13.287712379549449\n",
            "\u001b[31me^e is \u001b[34m15.154262241479259\n",
            "\u001b[31mThe maximum of \u001b[35m log2(10000) \u001b[31m and \u001b[35me^e \u001b[31m is \u001b[34m15.154262241479259\n"
          ]
        }
      ],
      "source": [
        "import math\n",
        "\n",
        "while True:\n",
        "    try:\n",
        "        x = int(input(\"Please enter a number: \"))\n",
        "        break\n",
        "    except ValueError:\n",
        "        print(\"Incorrect Input.  Try again...\")\n",
        "\n",
        "\n",
        "max_log = max(math.log2(x), math.e**math.e)\n",
        "print(f\"{RED}log of {x} is {BLUE}{math.log2(x)}\")\n",
        "print(f\"{RED}e^e is {BLUE}{math.e**math.e}\")\n",
        "print(f\"{RED}The maximum of {MAGENTA} log2({x}) {RED} and {MAGENTA}e^e {RED} is {BLUE}{max_log}\")"
      ]
    },
    {
      "cell_type": "markdown",
      "id": "opponent-morning",
      "metadata": {
        "id": "opponent-morning"
      },
      "source": [
        "## random\n",
        "Write a Python function that takes a probability between 0.0 and 1.0 and returns `True` with that probability. For example, if the input probability is 0.3, the function should return `True` in the 30\\% of times and `False` in the 70\\% of times."
      ]
    },
    {
      "cell_type": "code",
      "source": [
        "import random\n",
        "\n",
        "random_event = random.random()\n",
        "\n",
        "def random_probability(probability):\n",
        "    if random_event < probability:\n",
        "        return True\n",
        "    else:\n",
        "        return False\n",
        "\n",
        "random_probability(0.3)"
      ],
      "metadata": {
        "colab": {
          "base_uri": "https://localhost:8080/"
        },
        "id": "0dK9QLQwnpSU",
        "outputId": "9dff997a-06f2-4936-cb6e-63399176dfd5"
      },
      "id": "0dK9QLQwnpSU",
      "execution_count": 94,
      "outputs": [
        {
          "output_type": "execute_result",
          "data": {
            "text/plain": [
              "False"
            ]
          },
          "metadata": {},
          "execution_count": 94
        }
      ]
    },
    {
      "cell_type": "markdown",
      "id": "novel-rotation",
      "metadata": {
        "id": "novel-rotation"
      },
      "source": [
        "## pickle\n",
        "Write a Python program to store a dictionary on the hard disk and load it again."
      ]
    },
    {
      "cell_type": "code",
      "execution_count": 87,
      "id": "convinced-fault",
      "metadata": {
        "colab": {
          "base_uri": "https://localhost:8080/"
        },
        "id": "convinced-fault",
        "outputId": "b9bfc78c-7e81-4617-8412-d8b7460d4541"
      },
      "outputs": [
        {
          "output_type": "stream",
          "name": "stdout",
          "text": [
            "{'name': 'Navjot Singh Jabbal', 'age': 24, 'city': 'Berlin'}\n"
          ]
        }
      ],
      "source": [
        "import pickle\n",
        "\n",
        "data = {\n",
        "    \"name\": \"Navjot Singh Jabbal\",\n",
        "    \"age\": 24,\n",
        "    \"city\": \"Berlin\"\n",
        "}\n",
        "\n",
        "with open(\"data.pickle\", \"wb\") as f:\n",
        "    pickle.dump(data, f)\n",
        "\n",
        "with open(\"data.pickle\", \"rb\") as f:\n",
        "    loaded_data_pickle = pickle.load(f)\n",
        "\n",
        "print(loaded_data_pickle)"
      ]
    },
    {
      "cell_type": "markdown",
      "id": "scientific-timer",
      "metadata": {
        "id": "scientific-timer"
      },
      "source": [
        "## json\n",
        "Write a Python program to store a dictionary as a json file on the hard disk and load it again."
      ]
    },
    {
      "cell_type": "code",
      "execution_count": 36,
      "id": "western-resident",
      "metadata": {
        "colab": {
          "base_uri": "https://localhost:8080/"
        },
        "id": "western-resident",
        "outputId": "3be428ae-5060-4e34-bb61-9a6c11470704"
      },
      "outputs": [
        {
          "output_type": "stream",
          "name": "stdout",
          "text": [
            "{'name': 'Navjot Singh Jabbal', 'age': 24, 'city': 'Berlin'}\n"
          ]
        }
      ],
      "source": [
        "import json\n",
        "\n",
        "data = {\n",
        "    \"name\": \"Navjot Singh Jabbal\",\n",
        "    \"age\": 24,\n",
        "    \"city\": \"Berlin\"\n",
        "}\n",
        "\n",
        "with open(\"data.json\", \"w\") as f:\n",
        "    json.dump(data, f)\n",
        "\n",
        "with open(\"data.json\", \"r\") as f:\n",
        "    loaded_data_json = json.load(f)\n",
        "\n",
        "print(loaded_data_json)"
      ]
    },
    {
      "cell_type": "markdown",
      "id": "hidden-quick",
      "metadata": {
        "id": "hidden-quick"
      },
      "source": [
        "\n",
        "## re\n",
        "Write a function that takes a string as input and returns `True` if the format of the string matches the format of an email address."
      ]
    },
    {
      "cell_type": "code",
      "execution_count": 70,
      "id": "cloudy-visiting",
      "metadata": {
        "colab": {
          "base_uri": "https://localhost:8080/"
        },
        "id": "cloudy-visiting",
        "outputId": "31736afc-6983-443e-b961-b2faf10830c5"
      },
      "outputs": [
        {
          "output_type": "stream",
          "name": "stdout",
          "text": [
            "Please enter an email address: navjotjabbal@gmail.com\n",
            "Valid email address\n"
          ]
        }
      ],
      "source": [
        "import re\n",
        "\n",
        "while True:\n",
        "    email = input(\"Please enter an email address: \")\n",
        "    if re.match(r\"[^@]+@[^@]+\\.[^@]+\", email):\n",
        "        print(\"Valid email address\")\n",
        "        break\n",
        "    else:\n",
        "        print(\"Invalid email address\")"
      ]
    }
  ],
  "metadata": {
    "kernelspec": {
      "display_name": "Python 3",
      "language": "python",
      "name": "python3"
    },
    "language_info": {
      "codemirror_mode": {
        "name": "ipython",
        "version": 3
      },
      "file_extension": ".py",
      "mimetype": "text/x-python",
      "name": "python",
      "nbconvert_exporter": "python",
      "pygments_lexer": "ipython3",
      "version": "3.8.5"
    },
    "colab": {
      "provenance": []
    }
  },
  "nbformat": 4,
  "nbformat_minor": 5
}