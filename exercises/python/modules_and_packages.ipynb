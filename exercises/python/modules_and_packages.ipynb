{
  "cells": [
    {
      "cell_type": "markdown",
      "id": "bibliographic-edward",
      "metadata": {
        "id": "bibliographic-edward"
      },
      "source": [
        "# Modules and Packages"
      ]
    },
    {
      "cell_type": "markdown",
      "id": "actual-chinese",
      "metadata": {
        "id": "actual-chinese"
      },
      "source": [
        "## os\n",
        "Write a Python program to print the list of files in the current folder and their absolute path."
      ]
    },
    {
      "cell_type": "code",
      "execution_count": 86,
      "id": "tender-colombia",
      "metadata": {
        "id": "tender-colombia",
        "outputId": "d0bad1f2-9916-4ede-e957-ab44358829a1",
        "colab": {
          "base_uri": "https://localhost:8080/"
        }
      },
      "outputs": [
        {
          "output_type": "stream",
          "name": "stdout",
          "text": [
            ".config: /content/.config\n",
            "data.json: /content/data.json\n",
            "data.pickle: /content/data.pickle\n",
            "new_folder: /content/new_folder\n",
            "data.pickle2: /content/data.pickle2\n",
            "sample_data: /content/sample_data\n"
          ]
        }
      ],
      "source": [
        "import os\n",
        "\n",
        "def print_list_of_files_with_absolute_path():\n",
        "  for filename in os.listdir():\n",
        "    absolute_path = os.path.abspath(filename)\n",
        "    print(f\"{filename}: {absolute_path}\")\n",
        "\n",
        "print_list_of_files_with_absolute_path()"
      ]
    },
    {
      "cell_type": "markdown",
      "id": "burning-montreal",
      "metadata": {
        "id": "burning-montreal"
      },
      "source": [
        "## math\n",
        "Write a Python program that finds the maximum of log$_2 10000$ and $ e^e $."
      ]
    },
    {
      "cell_type": "code",
      "execution_count": 45,
      "id": "saved-craft",
      "metadata": {
        "id": "saved-craft",
        "outputId": "d0b659c3-63fa-439f-a6d5-510b5445b9f7",
        "colab": {
          "base_uri": "https://localhost:8080/"
        }
      },
      "outputs": [
        {
          "output_type": "stream",
          "name": "stdout",
          "text": [
            "Please enter a number: 10000\n",
            "log of 10000 is 13.287712379549449\n",
            "e^e is 15.154262241479259\n",
            "The maximum of log2(10000) and e^e is 15.154262241479259\n"
          ]
        }
      ],
      "source": [
        "import math\n",
        "\n",
        "while True:\n",
        "    try:\n",
        "        x = int(input(\"Please enter a number: \"))\n",
        "        break\n",
        "    except ValueError:\n",
        "        print(\"Incorrect Input.  Try again...\")\n",
        "\n",
        "\n",
        "max_log = max(math.log2(x), math.e**math.e)\n",
        "print(f\"log of {x} is {math.log2(x)}\")\n",
        "print(f\"e^e is {math.e**math.e}\")\n",
        "print(f\"The maximum of log2({x}) and e^e is {max_log}\")"
      ]
    },
    {
      "cell_type": "markdown",
      "id": "opponent-morning",
      "metadata": {
        "id": "opponent-morning"
      },
      "source": [
        "## random\n",
        "Write a Python function that takes a probability between 0.0 and 1.0 and returns `True` with that probability. For example, if the input probability is 0.3, the function should return `True` in the 30\\% of times and `False` in the 70\\% of times."
      ]
    },
    {
      "cell_type": "code",
      "source": [
        "import random\n",
        "\n",
        "while True:\n",
        "    try:\n",
        "        y = float(input(\"Please enter a Probability: \"))\n",
        "        break\n",
        "    except ValueError:\n",
        "        print(\"Incorrect Input.  Try again...\")\n",
        "\n",
        "random_event = random.random()\n",
        "\n",
        "def random_probability(probability):\n",
        "    if random_event < probability:\n",
        "        return True\n",
        "    else:\n",
        "        return False\n",
        "\n",
        "random_probability(0.3)"
      ],
      "metadata": {
        "id": "0dK9QLQwnpSU",
        "outputId": "5d2dcb3b-7d9c-4b98-fcee-ed610ff39e56",
        "colab": {
          "base_uri": "https://localhost:8080/"
        }
      },
      "id": "0dK9QLQwnpSU",
      "execution_count": 84,
      "outputs": [
        {
          "name": "stdout",
          "output_type": "stream",
          "text": [
            "Please enter a Probability: a\n",
            "Incorrect Input.  Try again...\n",
            "Please enter a Probability: 1\n"
          ]
        },
        {
          "output_type": "execute_result",
          "data": {
            "text/plain": [
              "True"
            ]
          },
          "metadata": {},
          "execution_count": 84
        }
      ]
    },
    {
      "cell_type": "markdown",
      "id": "novel-rotation",
      "metadata": {
        "id": "novel-rotation"
      },
      "source": [
        "## pickle\n",
        "Write a Python program to store a dictionary on the hard disk and load it again."
      ]
    },
    {
      "cell_type": "code",
      "execution_count": 87,
      "id": "convinced-fault",
      "metadata": {
        "id": "convinced-fault",
        "outputId": "b9bfc78c-7e81-4617-8412-d8b7460d4541",
        "colab": {
          "base_uri": "https://localhost:8080/"
        }
      },
      "outputs": [
        {
          "output_type": "stream",
          "name": "stdout",
          "text": [
            "{'name': 'Navjot Singh Jabbal', 'age': 24, 'city': 'Berlin'}\n"
          ]
        }
      ],
      "source": [
        "import pickle\n",
        "\n",
        "data = {\n",
        "    \"name\": \"Navjot Singh Jabbal\",\n",
        "    \"age\": 24,\n",
        "    \"city\": \"Berlin\"\n",
        "}\n",
        "\n",
        "with open(\"data.pickle\", \"wb\") as f:\n",
        "    pickle.dump(data, f)\n",
        "\n",
        "with open(\"data.pickle\", \"rb\") as f:\n",
        "    loaded_data_pickle = pickle.load(f)\n",
        "\n",
        "print(loaded_data_pickle)"
      ]
    },
    {
      "cell_type": "markdown",
      "id": "scientific-timer",
      "metadata": {
        "id": "scientific-timer"
      },
      "source": [
        "## json\n",
        "Write a Python program to store a dictionary as a json file on the hard disk and load it again."
      ]
    },
    {
      "cell_type": "code",
      "execution_count": 36,
      "id": "western-resident",
      "metadata": {
        "id": "western-resident",
        "outputId": "3be428ae-5060-4e34-bb61-9a6c11470704",
        "colab": {
          "base_uri": "https://localhost:8080/"
        }
      },
      "outputs": [
        {
          "output_type": "stream",
          "name": "stdout",
          "text": [
            "{'name': 'Navjot Singh Jabbal', 'age': 24, 'city': 'Berlin'}\n"
          ]
        }
      ],
      "source": [
        "import json\n",
        "\n",
        "data = {\n",
        "    \"name\": \"Navjot Singh Jabbal\",\n",
        "    \"age\": 24,\n",
        "    \"city\": \"Berlin\"\n",
        "}\n",
        "\n",
        "with open(\"data.json\", \"w\") as f:\n",
        "    json.dump(data, f)\n",
        "\n",
        "with open(\"data.json\", \"r\") as f:\n",
        "    loaded_data_json = json.load(f)\n",
        "\n",
        "print(loaded_data_json)"
      ]
    },
    {
      "cell_type": "markdown",
      "id": "hidden-quick",
      "metadata": {
        "id": "hidden-quick"
      },
      "source": [
        "\n",
        "## re\n",
        "Write a function that takes a string as input and returns `True` if the format of the string matches the format of an email address."
      ]
    },
    {
      "cell_type": "code",
      "execution_count": 70,
      "id": "cloudy-visiting",
      "metadata": {
        "id": "cloudy-visiting",
        "outputId": "31736afc-6983-443e-b961-b2faf10830c5",
        "colab": {
          "base_uri": "https://localhost:8080/"
        }
      },
      "outputs": [
        {
          "output_type": "stream",
          "name": "stdout",
          "text": [
            "Please enter an email address: navjotjabbal@gmail.com\n",
            "Valid email address\n"
          ]
        }
      ],
      "source": [
        "import re\n",
        "\n",
        "while True:\n",
        "    email = input(\"Please enter an email address: \")\n",
        "    if re.match(r\"[^@]+@[^@]+\\.[^@]+\", email):\n",
        "        print(\"Valid email address\")\n",
        "        break\n",
        "    else:\n",
        "        print(\"Invalid email address\")"
      ]
    }
  ],
  "metadata": {
    "kernelspec": {
      "display_name": "Python 3",
      "language": "python",
      "name": "python3"
    },
    "language_info": {
      "codemirror_mode": {
        "name": "ipython",
        "version": 3
      },
      "file_extension": ".py",
      "mimetype": "text/x-python",
      "name": "python",
      "nbconvert_exporter": "python",
      "pygments_lexer": "ipython3",
      "version": "3.8.5"
    },
    "colab": {
      "provenance": []
    }
  },
  "nbformat": 4,
  "nbformat_minor": 5
}