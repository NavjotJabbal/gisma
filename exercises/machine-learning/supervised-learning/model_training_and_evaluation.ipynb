{
  "cells": [
    {
      "cell_type": "markdown",
      "id": "korean-wednesday",
      "metadata": {
        "id": "korean-wednesday"
      },
      "source": [
        "# Model Training and Evaluation\n",
        "You should build a machine learning pipeline with a complete model training and evaluation step. In particular, you should do the following:\n",
        "- Load the `mnist` dataset using [Pandas](https://pandas.pydata.org/docs/reference/api/pandas.read_csv.html). You can find this dataset in the datasets folder.\n",
        "- Split the dataset into training and test sets using [Scikit-Learn](https://scikit-learn.org/stable/modules/generated/sklearn.model_selection.train_test_split.html).\n",
        "- Conduct data exploration, data preprocessing, and feature engineering if necessary.\n",
        "- Choose a few machine learning algorithms, such as [KNN](https://scikit-learn.org/stable/modules/generated/sklearn.neighbors.KNeighborsClassifier.html), [decision tree](https://scikit-learn.org/stable/modules/generated/sklearn.tree.DecisionTreeClassifier.html), and [gradient boosting](https://scikit-learn.org/stable/modules/generated/sklearn.ensemble.GradientBoostingClassifier.html).\n",
        "- Define a grid of hyperparameters for every selected model.\n",
        "- Conduct [grid search](https://scikit-learn.org/stable/modules/generated/sklearn.model_selection.GridSearchCV.html) or [random search](https://scikit-learn.org/stable/modules/generated/sklearn.model_selection.RandomizedSearchCV.html) using k-fold cross-validation on the training set to find out the best model (i.e., the best algorithm and its hyperparameters).\n",
        "- Train the best model on the whole training set.\n",
        "- Test the trained model on the test set and report various [evaluation metrics](https://scikit-learn.org/0.15/modules/model_evaluation.html).  \n",
        "- Check the documentation to identify the most important hyperparameters, attributes, and methods. Use them in practice."
      ]
    },
    {
      "cell_type": "markdown",
      "source": [
        "# ***Importing Libraries***"
      ],
      "metadata": {
        "id": "BgEmk3gobT0i"
      },
      "id": "BgEmk3gobT0i"
    },
    {
      "cell_type": "code",
      "execution_count": 60,
      "id": "infrared-copper",
      "metadata": {
        "id": "infrared-copper"
      },
      "outputs": [],
      "source": [
        "import pandas as pd\n",
        "import IPython.display\n",
        "import os\n",
        "\n",
        "from sklearn.model_selection import train_test_split\n",
        "from sklearn.model_selection import GridSearchCV\n",
        "from sklearn.neighbors import KNeighborsClassifier\n",
        "from sklearn.tree import DecisionTreeClassifier\n",
        "from sklearn.ensemble import GradientBoostingClassifier\n",
        "\n",
        "from sklearn.metrics import accuracy_score, confusion_matrix, classification_report"
      ]
    },
    {
      "cell_type": "markdown",
      "source": [],
      "metadata": {
        "id": "HgiJ6Ir0bp5d"
      },
      "id": "HgiJ6Ir0bp5d"
    },
    {
      "cell_type": "code",
      "source": [
        "os.system('color')\n",
        "\n",
        "RED = '\\033[31m'\n",
        "BLUE = '\\033[34m'\n",
        "RESET = '\\033[0m'"
      ],
      "metadata": {
        "id": "4TiSFT73boxe"
      },
      "id": "4TiSFT73boxe",
      "execution_count": 61,
      "outputs": []
    },
    {
      "cell_type": "code",
      "source": [
        "df = pd.read_csv(\"https://raw.githubusercontent.com/m-mahdavi/teaching/refs/heads/main/datasets/mnist.csv\")\n",
        "print(BLUE + \"df.head()\")\n",
        "display(df.head())\n",
        "\n",
        "print(BLUE + \"df.info()\" + RESET)\n",
        "display(df.info())\n",
        "\n",
        "print(BLUE + \"df.isnull().sum()\")\n",
        "display(df.isnull().sum())"
      ],
      "metadata": {
        "colab": {
          "base_uri": "https://localhost:8080/",
          "height": 852
        },
        "id": "XYo02gqSb0iM",
        "outputId": "8670a3fc-3c30-4fe6-8e4c-780aef9b0a71"
      },
      "id": "XYo02gqSb0iM",
      "execution_count": 18,
      "outputs": [
        {
          "output_type": "stream",
          "name": "stdout",
          "text": [
            "\u001b[34mdf.head()\n"
          ]
        },
        {
          "output_type": "display_data",
          "data": {
            "text/plain": [
              "      id  class  pixel1  pixel2  pixel3  pixel4  pixel5  pixel6  pixel7  \\\n",
              "0  31953      5       0       0       0       0       0       0       0   \n",
              "1  34452      8       0       0       0       0       0       0       0   \n",
              "2  60897      5       0       0       0       0       0       0       0   \n",
              "3  36953      0       0       0       0       0       0       0       0   \n",
              "4   1981      3       0       0       0       0       0       0       0   \n",
              "\n",
              "   pixel8  ...  pixel775  pixel776  pixel777  pixel778  pixel779  pixel780  \\\n",
              "0       0  ...         0         0         0         0         0         0   \n",
              "1       0  ...         0         0         0         0         0         0   \n",
              "2       0  ...         0         0         0         0         0         0   \n",
              "3       0  ...         0         0         0         0         0         0   \n",
              "4       0  ...         0         0         0         0         0         0   \n",
              "\n",
              "   pixel781  pixel782  pixel783  pixel784  \n",
              "0         0         0         0         0  \n",
              "1         0         0         0         0  \n",
              "2         0         0         0         0  \n",
              "3         0         0         0         0  \n",
              "4         0         0         0         0  \n",
              "\n",
              "[5 rows x 786 columns]"
            ],
            "text/html": [
              "\n",
              "  <div id=\"df-33de0cb6-f67d-4c9e-814e-1a0414c4b2b9\" class=\"colab-df-container\">\n",
              "    <div>\n",
              "<style scoped>\n",
              "    .dataframe tbody tr th:only-of-type {\n",
              "        vertical-align: middle;\n",
              "    }\n",
              "\n",
              "    .dataframe tbody tr th {\n",
              "        vertical-align: top;\n",
              "    }\n",
              "\n",
              "    .dataframe thead th {\n",
              "        text-align: right;\n",
              "    }\n",
              "</style>\n",
              "<table border=\"1\" class=\"dataframe\">\n",
              "  <thead>\n",
              "    <tr style=\"text-align: right;\">\n",
              "      <th></th>\n",
              "      <th>id</th>\n",
              "      <th>class</th>\n",
              "      <th>pixel1</th>\n",
              "      <th>pixel2</th>\n",
              "      <th>pixel3</th>\n",
              "      <th>pixel4</th>\n",
              "      <th>pixel5</th>\n",
              "      <th>pixel6</th>\n",
              "      <th>pixel7</th>\n",
              "      <th>pixel8</th>\n",
              "      <th>...</th>\n",
              "      <th>pixel775</th>\n",
              "      <th>pixel776</th>\n",
              "      <th>pixel777</th>\n",
              "      <th>pixel778</th>\n",
              "      <th>pixel779</th>\n",
              "      <th>pixel780</th>\n",
              "      <th>pixel781</th>\n",
              "      <th>pixel782</th>\n",
              "      <th>pixel783</th>\n",
              "      <th>pixel784</th>\n",
              "    </tr>\n",
              "  </thead>\n",
              "  <tbody>\n",
              "    <tr>\n",
              "      <th>0</th>\n",
              "      <td>31953</td>\n",
              "      <td>5</td>\n",
              "      <td>0</td>\n",
              "      <td>0</td>\n",
              "      <td>0</td>\n",
              "      <td>0</td>\n",
              "      <td>0</td>\n",
              "      <td>0</td>\n",
              "      <td>0</td>\n",
              "      <td>0</td>\n",
              "      <td>...</td>\n",
              "      <td>0</td>\n",
              "      <td>0</td>\n",
              "      <td>0</td>\n",
              "      <td>0</td>\n",
              "      <td>0</td>\n",
              "      <td>0</td>\n",
              "      <td>0</td>\n",
              "      <td>0</td>\n",
              "      <td>0</td>\n",
              "      <td>0</td>\n",
              "    </tr>\n",
              "    <tr>\n",
              "      <th>1</th>\n",
              "      <td>34452</td>\n",
              "      <td>8</td>\n",
              "      <td>0</td>\n",
              "      <td>0</td>\n",
              "      <td>0</td>\n",
              "      <td>0</td>\n",
              "      <td>0</td>\n",
              "      <td>0</td>\n",
              "      <td>0</td>\n",
              "      <td>0</td>\n",
              "      <td>...</td>\n",
              "      <td>0</td>\n",
              "      <td>0</td>\n",
              "      <td>0</td>\n",
              "      <td>0</td>\n",
              "      <td>0</td>\n",
              "      <td>0</td>\n",
              "      <td>0</td>\n",
              "      <td>0</td>\n",
              "      <td>0</td>\n",
              "      <td>0</td>\n",
              "    </tr>\n",
              "    <tr>\n",
              "      <th>2</th>\n",
              "      <td>60897</td>\n",
              "      <td>5</td>\n",
              "      <td>0</td>\n",
              "      <td>0</td>\n",
              "      <td>0</td>\n",
              "      <td>0</td>\n",
              "      <td>0</td>\n",
              "      <td>0</td>\n",
              "      <td>0</td>\n",
              "      <td>0</td>\n",
              "      <td>...</td>\n",
              "      <td>0</td>\n",
              "      <td>0</td>\n",
              "      <td>0</td>\n",
              "      <td>0</td>\n",
              "      <td>0</td>\n",
              "      <td>0</td>\n",
              "      <td>0</td>\n",
              "      <td>0</td>\n",
              "      <td>0</td>\n",
              "      <td>0</td>\n",
              "    </tr>\n",
              "    <tr>\n",
              "      <th>3</th>\n",
              "      <td>36953</td>\n",
              "      <td>0</td>\n",
              "      <td>0</td>\n",
              "      <td>0</td>\n",
              "      <td>0</td>\n",
              "      <td>0</td>\n",
              "      <td>0</td>\n",
              "      <td>0</td>\n",
              "      <td>0</td>\n",
              "      <td>0</td>\n",
              "      <td>...</td>\n",
              "      <td>0</td>\n",
              "      <td>0</td>\n",
              "      <td>0</td>\n",
              "      <td>0</td>\n",
              "      <td>0</td>\n",
              "      <td>0</td>\n",
              "      <td>0</td>\n",
              "      <td>0</td>\n",
              "      <td>0</td>\n",
              "      <td>0</td>\n",
              "    </tr>\n",
              "    <tr>\n",
              "      <th>4</th>\n",
              "      <td>1981</td>\n",
              "      <td>3</td>\n",
              "      <td>0</td>\n",
              "      <td>0</td>\n",
              "      <td>0</td>\n",
              "      <td>0</td>\n",
              "      <td>0</td>\n",
              "      <td>0</td>\n",
              "      <td>0</td>\n",
              "      <td>0</td>\n",
              "      <td>...</td>\n",
              "      <td>0</td>\n",
              "      <td>0</td>\n",
              "      <td>0</td>\n",
              "      <td>0</td>\n",
              "      <td>0</td>\n",
              "      <td>0</td>\n",
              "      <td>0</td>\n",
              "      <td>0</td>\n",
              "      <td>0</td>\n",
              "      <td>0</td>\n",
              "    </tr>\n",
              "  </tbody>\n",
              "</table>\n",
              "<p>5 rows × 786 columns</p>\n",
              "</div>\n",
              "    <div class=\"colab-df-buttons\">\n",
              "\n",
              "  <div class=\"colab-df-container\">\n",
              "    <button class=\"colab-df-convert\" onclick=\"convertToInteractive('df-33de0cb6-f67d-4c9e-814e-1a0414c4b2b9')\"\n",
              "            title=\"Convert this dataframe to an interactive table.\"\n",
              "            style=\"display:none;\">\n",
              "\n",
              "  <svg xmlns=\"http://www.w3.org/2000/svg\" height=\"24px\" viewBox=\"0 -960 960 960\">\n",
              "    <path d=\"M120-120v-720h720v720H120Zm60-500h600v-160H180v160Zm220 220h160v-160H400v160Zm0 220h160v-160H400v160ZM180-400h160v-160H180v160Zm440 0h160v-160H620v160ZM180-180h160v-160H180v160Zm440 0h160v-160H620v160Z\"/>\n",
              "  </svg>\n",
              "    </button>\n",
              "\n",
              "  <style>\n",
              "    .colab-df-container {\n",
              "      display:flex;\n",
              "      gap: 12px;\n",
              "    }\n",
              "\n",
              "    .colab-df-convert {\n",
              "      background-color: #E8F0FE;\n",
              "      border: none;\n",
              "      border-radius: 50%;\n",
              "      cursor: pointer;\n",
              "      display: none;\n",
              "      fill: #1967D2;\n",
              "      height: 32px;\n",
              "      padding: 0 0 0 0;\n",
              "      width: 32px;\n",
              "    }\n",
              "\n",
              "    .colab-df-convert:hover {\n",
              "      background-color: #E2EBFA;\n",
              "      box-shadow: 0px 1px 2px rgba(60, 64, 67, 0.3), 0px 1px 3px 1px rgba(60, 64, 67, 0.15);\n",
              "      fill: #174EA6;\n",
              "    }\n",
              "\n",
              "    .colab-df-buttons div {\n",
              "      margin-bottom: 4px;\n",
              "    }\n",
              "\n",
              "    [theme=dark] .colab-df-convert {\n",
              "      background-color: #3B4455;\n",
              "      fill: #D2E3FC;\n",
              "    }\n",
              "\n",
              "    [theme=dark] .colab-df-convert:hover {\n",
              "      background-color: #434B5C;\n",
              "      box-shadow: 0px 1px 3px 1px rgba(0, 0, 0, 0.15);\n",
              "      filter: drop-shadow(0px 1px 2px rgba(0, 0, 0, 0.3));\n",
              "      fill: #FFFFFF;\n",
              "    }\n",
              "  </style>\n",
              "\n",
              "    <script>\n",
              "      const buttonEl =\n",
              "        document.querySelector('#df-33de0cb6-f67d-4c9e-814e-1a0414c4b2b9 button.colab-df-convert');\n",
              "      buttonEl.style.display =\n",
              "        google.colab.kernel.accessAllowed ? 'block' : 'none';\n",
              "\n",
              "      async function convertToInteractive(key) {\n",
              "        const element = document.querySelector('#df-33de0cb6-f67d-4c9e-814e-1a0414c4b2b9');\n",
              "        const dataTable =\n",
              "          await google.colab.kernel.invokeFunction('convertToInteractive',\n",
              "                                                    [key], {});\n",
              "        if (!dataTable) return;\n",
              "\n",
              "        const docLinkHtml = 'Like what you see? Visit the ' +\n",
              "          '<a target=\"_blank\" href=https://colab.research.google.com/notebooks/data_table.ipynb>data table notebook</a>'\n",
              "          + ' to learn more about interactive tables.';\n",
              "        element.innerHTML = '';\n",
              "        dataTable['output_type'] = 'display_data';\n",
              "        await google.colab.output.renderOutput(dataTable, element);\n",
              "        const docLink = document.createElement('div');\n",
              "        docLink.innerHTML = docLinkHtml;\n",
              "        element.appendChild(docLink);\n",
              "      }\n",
              "    </script>\n",
              "  </div>\n",
              "\n",
              "\n",
              "<div id=\"df-e081212f-adae-4549-bd5c-c0f1b87be194\">\n",
              "  <button class=\"colab-df-quickchart\" onclick=\"quickchart('df-e081212f-adae-4549-bd5c-c0f1b87be194')\"\n",
              "            title=\"Suggest charts\"\n",
              "            style=\"display:none;\">\n",
              "\n",
              "<svg xmlns=\"http://www.w3.org/2000/svg\" height=\"24px\"viewBox=\"0 0 24 24\"\n",
              "     width=\"24px\">\n",
              "    <g>\n",
              "        <path d=\"M19 3H5c-1.1 0-2 .9-2 2v14c0 1.1.9 2 2 2h14c1.1 0 2-.9 2-2V5c0-1.1-.9-2-2-2zM9 17H7v-7h2v7zm4 0h-2V7h2v10zm4 0h-2v-4h2v4z\"/>\n",
              "    </g>\n",
              "</svg>\n",
              "  </button>\n",
              "\n",
              "<style>\n",
              "  .colab-df-quickchart {\n",
              "      --bg-color: #E8F0FE;\n",
              "      --fill-color: #1967D2;\n",
              "      --hover-bg-color: #E2EBFA;\n",
              "      --hover-fill-color: #174EA6;\n",
              "      --disabled-fill-color: #AAA;\n",
              "      --disabled-bg-color: #DDD;\n",
              "  }\n",
              "\n",
              "  [theme=dark] .colab-df-quickchart {\n",
              "      --bg-color: #3B4455;\n",
              "      --fill-color: #D2E3FC;\n",
              "      --hover-bg-color: #434B5C;\n",
              "      --hover-fill-color: #FFFFFF;\n",
              "      --disabled-bg-color: #3B4455;\n",
              "      --disabled-fill-color: #666;\n",
              "  }\n",
              "\n",
              "  .colab-df-quickchart {\n",
              "    background-color: var(--bg-color);\n",
              "    border: none;\n",
              "    border-radius: 50%;\n",
              "    cursor: pointer;\n",
              "    display: none;\n",
              "    fill: var(--fill-color);\n",
              "    height: 32px;\n",
              "    padding: 0;\n",
              "    width: 32px;\n",
              "  }\n",
              "\n",
              "  .colab-df-quickchart:hover {\n",
              "    background-color: var(--hover-bg-color);\n",
              "    box-shadow: 0 1px 2px rgba(60, 64, 67, 0.3), 0 1px 3px 1px rgba(60, 64, 67, 0.15);\n",
              "    fill: var(--button-hover-fill-color);\n",
              "  }\n",
              "\n",
              "  .colab-df-quickchart-complete:disabled,\n",
              "  .colab-df-quickchart-complete:disabled:hover {\n",
              "    background-color: var(--disabled-bg-color);\n",
              "    fill: var(--disabled-fill-color);\n",
              "    box-shadow: none;\n",
              "  }\n",
              "\n",
              "  .colab-df-spinner {\n",
              "    border: 2px solid var(--fill-color);\n",
              "    border-color: transparent;\n",
              "    border-bottom-color: var(--fill-color);\n",
              "    animation:\n",
              "      spin 1s steps(1) infinite;\n",
              "  }\n",
              "\n",
              "  @keyframes spin {\n",
              "    0% {\n",
              "      border-color: transparent;\n",
              "      border-bottom-color: var(--fill-color);\n",
              "      border-left-color: var(--fill-color);\n",
              "    }\n",
              "    20% {\n",
              "      border-color: transparent;\n",
              "      border-left-color: var(--fill-color);\n",
              "      border-top-color: var(--fill-color);\n",
              "    }\n",
              "    30% {\n",
              "      border-color: transparent;\n",
              "      border-left-color: var(--fill-color);\n",
              "      border-top-color: var(--fill-color);\n",
              "      border-right-color: var(--fill-color);\n",
              "    }\n",
              "    40% {\n",
              "      border-color: transparent;\n",
              "      border-right-color: var(--fill-color);\n",
              "      border-top-color: var(--fill-color);\n",
              "    }\n",
              "    60% {\n",
              "      border-color: transparent;\n",
              "      border-right-color: var(--fill-color);\n",
              "    }\n",
              "    80% {\n",
              "      border-color: transparent;\n",
              "      border-right-color: var(--fill-color);\n",
              "      border-bottom-color: var(--fill-color);\n",
              "    }\n",
              "    90% {\n",
              "      border-color: transparent;\n",
              "      border-bottom-color: var(--fill-color);\n",
              "    }\n",
              "  }\n",
              "</style>\n",
              "\n",
              "  <script>\n",
              "    async function quickchart(key) {\n",
              "      const quickchartButtonEl =\n",
              "        document.querySelector('#' + key + ' button');\n",
              "      quickchartButtonEl.disabled = true;  // To prevent multiple clicks.\n",
              "      quickchartButtonEl.classList.add('colab-df-spinner');\n",
              "      try {\n",
              "        const charts = await google.colab.kernel.invokeFunction(\n",
              "            'suggestCharts', [key], {});\n",
              "      } catch (error) {\n",
              "        console.error('Error during call to suggestCharts:', error);\n",
              "      }\n",
              "      quickchartButtonEl.classList.remove('colab-df-spinner');\n",
              "      quickchartButtonEl.classList.add('colab-df-quickchart-complete');\n",
              "    }\n",
              "    (() => {\n",
              "      let quickchartButtonEl =\n",
              "        document.querySelector('#df-e081212f-adae-4549-bd5c-c0f1b87be194 button');\n",
              "      quickchartButtonEl.style.display =\n",
              "        google.colab.kernel.accessAllowed ? 'block' : 'none';\n",
              "    })();\n",
              "  </script>\n",
              "</div>\n",
              "\n",
              "    </div>\n",
              "  </div>\n"
            ],
            "application/vnd.google.colaboratory.intrinsic+json": {
              "type": "dataframe"
            }
          },
          "metadata": {}
        },
        {
          "output_type": "stream",
          "name": "stdout",
          "text": [
            "\u001b[34mdf.info()\u001b[0m\n",
            "<class 'pandas.core.frame.DataFrame'>\n",
            "RangeIndex: 4000 entries, 0 to 3999\n",
            "Columns: 786 entries, id to pixel784\n",
            "dtypes: int64(786)\n",
            "memory usage: 24.0 MB\n"
          ]
        },
        {
          "output_type": "display_data",
          "data": {
            "text/plain": [
              "None"
            ]
          },
          "metadata": {}
        },
        {
          "output_type": "stream",
          "name": "stdout",
          "text": [
            "\u001b[34mdf.isnull().sum()\n"
          ]
        },
        {
          "output_type": "display_data",
          "data": {
            "text/plain": [
              "id          0\n",
              "class       0\n",
              "pixel1      0\n",
              "pixel2      0\n",
              "pixel3      0\n",
              "           ..\n",
              "pixel780    0\n",
              "pixel781    0\n",
              "pixel782    0\n",
              "pixel783    0\n",
              "pixel784    0\n",
              "Length: 786, dtype: int64"
            ],
            "text/html": [
              "<div>\n",
              "<style scoped>\n",
              "    .dataframe tbody tr th:only-of-type {\n",
              "        vertical-align: middle;\n",
              "    }\n",
              "\n",
              "    .dataframe tbody tr th {\n",
              "        vertical-align: top;\n",
              "    }\n",
              "\n",
              "    .dataframe thead th {\n",
              "        text-align: right;\n",
              "    }\n",
              "</style>\n",
              "<table border=\"1\" class=\"dataframe\">\n",
              "  <thead>\n",
              "    <tr style=\"text-align: right;\">\n",
              "      <th></th>\n",
              "      <th>0</th>\n",
              "    </tr>\n",
              "  </thead>\n",
              "  <tbody>\n",
              "    <tr>\n",
              "      <th>id</th>\n",
              "      <td>0</td>\n",
              "    </tr>\n",
              "    <tr>\n",
              "      <th>class</th>\n",
              "      <td>0</td>\n",
              "    </tr>\n",
              "    <tr>\n",
              "      <th>pixel1</th>\n",
              "      <td>0</td>\n",
              "    </tr>\n",
              "    <tr>\n",
              "      <th>pixel2</th>\n",
              "      <td>0</td>\n",
              "    </tr>\n",
              "    <tr>\n",
              "      <th>pixel3</th>\n",
              "      <td>0</td>\n",
              "    </tr>\n",
              "    <tr>\n",
              "      <th>...</th>\n",
              "      <td>...</td>\n",
              "    </tr>\n",
              "    <tr>\n",
              "      <th>pixel780</th>\n",
              "      <td>0</td>\n",
              "    </tr>\n",
              "    <tr>\n",
              "      <th>pixel781</th>\n",
              "      <td>0</td>\n",
              "    </tr>\n",
              "    <tr>\n",
              "      <th>pixel782</th>\n",
              "      <td>0</td>\n",
              "    </tr>\n",
              "    <tr>\n",
              "      <th>pixel783</th>\n",
              "      <td>0</td>\n",
              "    </tr>\n",
              "    <tr>\n",
              "      <th>pixel784</th>\n",
              "      <td>0</td>\n",
              "    </tr>\n",
              "  </tbody>\n",
              "</table>\n",
              "<p>786 rows × 1 columns</p>\n",
              "</div><br><label><b>dtype:</b> int64</label>"
            ]
          },
          "metadata": {}
        }
      ]
    },
    {
      "cell_type": "markdown",
      "source": [
        "# spliting the data into train and test"
      ],
      "metadata": {
        "id": "DZOesScpecGY"
      },
      "id": "DZOesScpecGY"
    },
    {
      "cell_type": "code",
      "source": [
        "df_train, df_test = train_test_split(df, test_size=0.2, random_state=42)\n",
        "print(f\"{RED}Shape of original data:- {BLUE}{df.shape}\")\n",
        "print(f\"{RED}Shape of train data:- {BLUE}{df_train.shape}\")\n",
        "print(f\"{RED}Shape of test data:- {BLUE}{df_test.shape}\")"
      ],
      "metadata": {
        "colab": {
          "base_uri": "https://localhost:8080/"
        },
        "id": "NNCcbrASearx",
        "outputId": "2b549420-b1f5-4686-c4b3-357b52e882e5"
      },
      "id": "NNCcbrASearx",
      "execution_count": 16,
      "outputs": [
        {
          "output_type": "stream",
          "name": "stdout",
          "text": [
            "\u001b[31mShape of original data:- \u001b[34m(4000, 786)\n",
            "\u001b[31mShape of train data:- \u001b[34m(3200, 786)\n",
            "\u001b[31mShape of test data:- \u001b[34m(800, 786)\n"
          ]
        }
      ]
    },
    {
      "cell_type": "markdown",
      "source": [
        "\n",
        "1.   dropping id column\n",
        "2.   dropping class column from df_train and df_test to get x_train and x_test\n",
        "3.   adding class column from df to df_train and df_test"
      ],
      "metadata": {
        "id": "lPBACsgbfPMI"
      },
      "id": "lPBACsgbfPMI"
    },
    {
      "cell_type": "code",
      "source": [
        "x_train = df_train.drop([\"class\",\"id\"], axis=1,)\n",
        "y_train = df_train[\"class\"]\n",
        "\n",
        "x_test = df_test.drop([\"class\",\"id\"], axis=1)\n",
        "y_test = df_test[\"class\"]\n",
        "\n",
        "print(f\"{RED}Shape of x_train:- {BLUE}{x_train.shape}\")\n",
        "print(f\"{RED}Shape of x_test:- {BLUE}{x_test.shape}\")\n",
        "print(f\"{RED}Shape of y_train:- {BLUE}{y_train.shape}\")\n",
        "print(f\"{RED}Shape of y_test:- {BLUE}{y_test.shape}\")"
      ],
      "metadata": {
        "colab": {
          "base_uri": "https://localhost:8080/"
        },
        "id": "sLmxwl2VfPfs",
        "outputId": "bd40b83b-7d79-4000-e5cc-f6365f50f986"
      },
      "id": "sLmxwl2VfPfs",
      "execution_count": 17,
      "outputs": [
        {
          "output_type": "stream",
          "name": "stdout",
          "text": [
            "\u001b[31mShape of x_train:- \u001b[34m(3200, 784)\n",
            "\u001b[31mShape of x_test:- \u001b[34m(800, 784)\n",
            "\u001b[31mShape of y_train:- \u001b[34m(3200,)\n",
            "\u001b[31mShape of y_test:- \u001b[34m(800,)\n"
          ]
        }
      ]
    },
    {
      "cell_type": "markdown",
      "source": [
        "# Defining hyperparameter grids\n",
        "(not adding Gradient Boost here because it takes too much time)"
      ],
      "metadata": {
        "id": "V7oV7ZOZgx3W"
      },
      "id": "V7oV7ZOZgx3W"
    },
    {
      "cell_type": "code",
      "source": [
        "param_grid_knn = {\n",
        "    'n_neighbors': [3, 5, 7],\n",
        "    'weights': ['uniform', 'distance']\n",
        "}\n",
        "\n",
        "param_grid_dt = {\n",
        "    'criterion': ['gini', 'entropy'],\n",
        "    'max_depth': [9, 10, 20],\n",
        "    'min_samples_leaf': [1, 3, 5],\n",
        "    'splitter': ['best', 'random'],\n",
        "    'min_impurity_decrease': [0.0, 0.01],\n",
        "    'min_weight_fraction_leaf': [0.0, 0.1],\n",
        "    'max_features': [None, 'sqrt', 'log2'],\n",
        "}"
      ],
      "metadata": {
        "id": "qCUBPTcLgyZ8"
      },
      "id": "qCUBPTcLgyZ8",
      "execution_count": 37,
      "outputs": []
    },
    {
      "cell_type": "markdown",
      "source": [
        "# Initializing models"
      ],
      "metadata": {
        "id": "TDrFCf5hhDyr"
      },
      "id": "TDrFCf5hhDyr"
    },
    {
      "cell_type": "code",
      "source": [
        "models = {\n",
        "    \"KNN\": (KNeighborsClassifier(), param_grid_knn),\n",
        "    \"Decision Tree\": (DecisionTreeClassifier(random_state=42), param_grid_dt),\n",
        "}"
      ],
      "metadata": {
        "id": "eCYk-iYchEJI"
      },
      "id": "eCYk-iYchEJI",
      "execution_count": 38,
      "outputs": []
    },
    {
      "cell_type": "markdown",
      "source": [
        "# Performing Grid Search"
      ],
      "metadata": {
        "id": "Lxm-3n8shMeK"
      },
      "id": "Lxm-3n8shMeK"
    },
    {
      "cell_type": "code",
      "source": [
        "best_models = {}\n",
        "\n",
        "for name, (model, param_grid) in models.items():\n",
        "    grid_search = GridSearchCV(model, param_grid, cv=5, scoring='accuracy', n_jobs=-1)\n",
        "    grid_search.fit(x_train, y_train)\n",
        "    best_models[name] = grid_search.best_estimator_\n",
        "\n",
        "\n",
        "print(best_models)"
      ],
      "metadata": {
        "colab": {
          "base_uri": "https://localhost:8080/"
        },
        "id": "bUR2Kw-5hM09",
        "outputId": "a049fd1d-00e5-4600-f3ae-441d7770979e"
      },
      "id": "bUR2Kw-5hM09",
      "execution_count": 39,
      "outputs": [
        {
          "output_type": "stream",
          "name": "stdout",
          "text": [
            "{'KNN': KNeighborsClassifier(n_neighbors=3, weights='distance'), 'Decision Tree': DecisionTreeClassifier(criterion='entropy', max_depth=20, random_state=42)}\n"
          ]
        }
      ]
    },
    {
      "cell_type": "markdown",
      "source": [
        "# Doing it Manually (KNN)"
      ],
      "metadata": {
        "id": "AhnRirp9i07h"
      },
      "id": "AhnRirp9i07h"
    },
    {
      "cell_type": "code",
      "source": [
        "knn_model = KNeighborsClassifier(n_neighbors=3, weights='distance')\n",
        "knn_model = knn_model.fit(x_train,y_train)"
      ],
      "metadata": {
        "id": "4r1gDICci_CZ"
      },
      "id": "4r1gDICci_CZ",
      "execution_count": 49,
      "outputs": []
    },
    {
      "cell_type": "code",
      "source": [
        "y_pred_knn = knn_model.predict(x_test)\n",
        "accuracy = accuracy_score(y_test, y_pred_knn)\n",
        "report = classification_report(y_test, y_pred_knn)\n",
        "conf_matrix = confusion_matrix(y_test, y_pred_knn)\n",
        "\n",
        "print(f\"{RED}accuracy using KNN model:- {BLUE}{accuracy*100}%\")\n",
        "print(f\"{RED}classification report:- {BLUE}\")\n",
        "print(report)\n",
        "print(f\"{RED}confusion matrix:- {BLUE}\")\n",
        "print(conf_matrix)"
      ],
      "metadata": {
        "colab": {
          "base_uri": "https://localhost:8080/"
        },
        "id": "Qs0YacB_jm0w",
        "outputId": "046b2e56-67d6-44be-e568-6d3e6c81000e"
      },
      "id": "Qs0YacB_jm0w",
      "execution_count": 56,
      "outputs": [
        {
          "output_type": "stream",
          "name": "stdout",
          "text": [
            "\u001b[31maccuracy using KNN model:- \u001b[34m92.375%\n",
            "\u001b[31mclassification report:- \u001b[34m\n",
            "              precision    recall  f1-score   support\n",
            "\n",
            "           0       0.96      1.00      0.98        70\n",
            "           1       0.91      0.99      0.95       100\n",
            "           2       0.98      0.89      0.94        73\n",
            "           3       0.92      0.92      0.92        86\n",
            "           4       0.88      0.89      0.88        80\n",
            "           5       0.86      0.94      0.90        64\n",
            "           6       0.99      0.94      0.97        90\n",
            "           7       0.91      0.96      0.93        67\n",
            "           8       0.95      0.86      0.91        94\n",
            "           9       0.88      0.86      0.87        76\n",
            "\n",
            "    accuracy                           0.92       800\n",
            "   macro avg       0.92      0.92      0.92       800\n",
            "weighted avg       0.93      0.92      0.92       800\n",
            "\n",
            "\u001b[31mconfusion matrix:- \u001b[34m\n",
            "[[70  0  0  0  0  0  0  0  0  0]\n",
            " [ 0 99  0  0  1  0  0  0  0  0]\n",
            " [ 1  3 65  2  0  0  0  0  1  1]\n",
            " [ 1  0  0 79  1  3  0  2  0  0]\n",
            " [ 0  2  0  0 71  0  1  0  1  5]\n",
            " [ 1  0  0  1  1 60  0  0  1  0]\n",
            " [ 0  1  0  0  1  3 85  0  0  0]\n",
            " [ 0  1  0  0  0  0  0 64  0  2]\n",
            " [ 0  2  1  3  1  4  0  1 81  1]\n",
            " [ 0  1  0  1  5  0  0  3  1 65]]\n"
          ]
        }
      ]
    },
    {
      "cell_type": "markdown",
      "source": [
        "# Doing it Manually (Decision Tree)"
      ],
      "metadata": {
        "id": "FOuWz9jQkgWt"
      },
      "id": "FOuWz9jQkgWt"
    },
    {
      "cell_type": "code",
      "source": [
        "dt_model = DecisionTreeClassifier(random_state=42, criterion='gini', max_depth=9,\n",
        "                                  min_samples_leaf = 3, splitter = 'best',\n",
        "                                  min_impurity_decrease=0.0,min_weight_fraction_leaf = 0.0,\n",
        "                                  max_features =None)\n",
        "dt_model = dt_model.fit(x_train,y_train)"
      ],
      "metadata": {
        "id": "3u50le_5kFOI"
      },
      "id": "3u50le_5kFOI",
      "execution_count": 53,
      "outputs": []
    },
    {
      "cell_type": "code",
      "source": [
        "y_pred_dt = dt_model.predict(x_test)\n",
        "accuracy = accuracy_score(y_test, y_pred_dt)\n",
        "report = classification_report(y_test, y_pred_dt)\n",
        "conf_matrix = confusion_matrix(y_test, y_pred_dt)\n",
        "\n",
        "print(f\"{RED}accuracy using DT model:- {BLUE}{accuracy*100}%\")\n",
        "print(f\"{RED}classification report:- {BLUE}\")\n",
        "print(report)\n",
        "print(f\"{RED}confusion matrix:- {BLUE}\")\n",
        "print(conf_matrix)"
      ],
      "metadata": {
        "colab": {
          "base_uri": "https://localhost:8080/"
        },
        "id": "rbJGxGUOkIpb",
        "outputId": "2faa1bd7-4516-471b-d0c4-656f9723ec2f"
      },
      "id": "rbJGxGUOkIpb",
      "execution_count": 59,
      "outputs": [
        {
          "output_type": "stream",
          "name": "stdout",
          "text": [
            "\u001b[31maccuracy using DT model:- \u001b[34m75.375%\n",
            "\u001b[31mclassification report:- \u001b[34m\n",
            "              precision    recall  f1-score   support\n",
            "\n",
            "           0       0.87      0.86      0.86        70\n",
            "           1       0.86      0.87      0.87       100\n",
            "           2       0.69      0.63      0.66        73\n",
            "           3       0.81      0.76      0.78        86\n",
            "           4       0.72      0.75      0.74        80\n",
            "           5       0.59      0.75      0.66        64\n",
            "           6       0.77      0.77      0.77        90\n",
            "           7       0.84      0.85      0.84        67\n",
            "           8       0.73      0.56      0.63        94\n",
            "           9       0.67      0.76      0.71        76\n",
            "\n",
            "    accuracy                           0.75       800\n",
            "   macro avg       0.75      0.76      0.75       800\n",
            "weighted avg       0.76      0.75      0.75       800\n",
            "\n",
            "\u001b[31mconfusion matrix:- \u001b[34m\n",
            "[[60  0  0  1  0  4  3  0  1  1]\n",
            " [ 0 87  0  1  3  2  0  1  6  0]\n",
            " [ 1  7 46  4  2  3  3  1  5  1]\n",
            " [ 1  3  2 65  1 10  0  3  0  1]\n",
            " [ 1  0  4  0 60  2  2  1  3  7]\n",
            " [ 2  2  0  3  0 48  4  0  0  5]\n",
            " [ 3  0  6  1  2  3 69  0  4  2]\n",
            " [ 0  0  2  1  1  0  0 57  1  5]\n",
            " [ 1  1  7  4  7  4  7  3 53  7]\n",
            " [ 0  1  0  0  7  6  2  2  0 58]]\n",
            "\u001b[31mf1 score:- \u001b[34m0.7532823504080755\n"
          ]
        }
      ]
    },
    {
      "cell_type": "markdown",
      "source": [
        "# Doing it Manually (Gradient Boost)"
      ],
      "metadata": {
        "id": "04gE4tLRkmoB"
      },
      "id": "04gE4tLRkmoB"
    },
    {
      "cell_type": "code",
      "source": [
        "gb_model =  GradientBoostingClassifier(random_state=42)\n",
        "gb_model = gb_model.fit(x_train,y_train)"
      ],
      "metadata": {
        "id": "37z1eOGPjqy4"
      },
      "id": "37z1eOGPjqy4",
      "execution_count": 29,
      "outputs": []
    },
    {
      "cell_type": "code",
      "source": [
        "y_pred_gb = gb_model.predict(x_test)\n",
        "accuracy = accuracy_score(y_test, y_pred_gb)\n",
        "report = classification_report(y_test, y_pred_gb)\n",
        "conf_matrix = confusion_matrix(y_test, y_pred_gb)\n",
        "\n",
        "print(f\"{RED}accuracy using GB model:- {BLUE}{accuracy*100}%\")\n",
        "print(f\"{RED}classification report:- {BLUE}\")\n",
        "print(report)\n",
        "print(f\"{RED}confusion matrix:- {BLUE}\")\n",
        "print(conf_matrix)"
      ],
      "metadata": {
        "colab": {
          "base_uri": "https://localhost:8080/"
        },
        "id": "odVC46Gnkt0D",
        "outputId": "edb960be-8d0d-498d-e25c-4c69099d3dd6"
      },
      "id": "odVC46Gnkt0D",
      "execution_count": 58,
      "outputs": [
        {
          "output_type": "stream",
          "name": "stdout",
          "text": [
            "\u001b[31maccuracy using GB model:- \u001b[34m91.0%\n",
            "\u001b[31mclassification report:- \u001b[34m\n",
            "              precision    recall  f1-score   support\n",
            "\n",
            "           0       0.99      0.94      0.96        70\n",
            "           1       0.94      0.95      0.95       100\n",
            "           2       0.88      0.89      0.88        73\n",
            "           3       0.94      0.88      0.91        86\n",
            "           4       0.92      0.96      0.94        80\n",
            "           5       0.80      0.92      0.86        64\n",
            "           6       0.94      0.88      0.91        90\n",
            "           7       0.98      0.91      0.95        67\n",
            "           8       0.89      0.87      0.88        94\n",
            "           9       0.84      0.89      0.87        76\n",
            "\n",
            "    accuracy                           0.91       800\n",
            "   macro avg       0.91      0.91      0.91       800\n",
            "weighted avg       0.91      0.91      0.91       800\n",
            "\n",
            "\u001b[31mconfusion matrix:- \u001b[34m\n",
            "[[66  0  1  0  0  2  0  0  0  1]\n",
            " [ 0 95  0  1  1  0  1  0  2  0]\n",
            " [ 0  2 65  1  1  0  1  0  2  1]\n",
            " [ 0  0  1 76  1  4  2  1  0  1]\n",
            " [ 0  0  0  0 77  0  1  0  1  1]\n",
            " [ 0  2  0  0  0 59  0  0  1  2]\n",
            " [ 1  1  2  0  0  5 79  0  2  0]\n",
            " [ 0  1  1  0  0  0  0 61  1  3]\n",
            " [ 0  0  1  3  1  3  0  0 82  4]\n",
            " [ 0  0  3  0  3  1  0  0  1 68]]\n"
          ]
        }
      ]
    }
  ],
  "metadata": {
    "kernelspec": {
      "display_name": "Python 3",
      "language": "python",
      "name": "python3"
    },
    "language_info": {
      "codemirror_mode": {
        "name": "ipython",
        "version": 3
      },
      "file_extension": ".py",
      "mimetype": "text/x-python",
      "name": "python",
      "nbconvert_exporter": "python",
      "pygments_lexer": "ipython3",
      "version": "3.8.5"
    },
    "colab": {
      "provenance": []
    }
  },
  "nbformat": 4,
  "nbformat_minor": 5
}